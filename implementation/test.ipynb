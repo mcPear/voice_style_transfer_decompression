{
 "cells": [
  {
   "cell_type": "markdown",
   "metadata": {},
   "source": [
    "# Test - self reconstruction"
   ]
  },
  {
   "cell_type": "code",
   "execution_count": 1,
   "metadata": {},
   "outputs": [],
   "source": [
    "import torch\n",
    "from torch.autograd import Variable\n",
    "import numpy as np\n",
    "from utils import Hps\n",
    "from utils import DataLoader\n",
    "from solver import Solver\n",
    "import h5py"
   ]
  },
  {
   "cell_type": "code",
   "execution_count": 4,
   "metadata": {},
   "outputs": [],
   "source": [
    "def calc_loss(sp_out, sp_trg):\n",
    "    min_idx = min(len(sp_out), len(sp_trg)) - 1\n",
    "    return np.mean(np.abs(sp_out[0:min_idx] - sp_trg[0:min_idx]))\n",
    "\n",
    "def convert_sp(sp, c, solver, gen=True):\n",
    "    c_var = Variable(torch.from_numpy(np.array([c]))).cuda()\n",
    "    sp_tensor = torch.from_numpy(np.expand_dims(sp, axis=0))\n",
    "    sp_tensor = sp_tensor.type(torch.FloatTensor)\n",
    "    converted_sp = solver.test_step(sp_tensor, c_var, gen=gen)\n",
    "    converted_sp = converted_sp.squeeze(axis=0).transpose((1, 0))\n",
    "    return converted_sp\n",
    "\n",
    "def get_model(hps_path, model_path, wavenet_mel):\n",
    "    hps = Hps()\n",
    "    hps.load(hps_path)\n",
    "    hps_tuple = hps.get_tuple()\n",
    "    solver = Solver(hps_tuple, None, wavenet_mel)\n",
    "    solver.load_model(model_path)\n",
    "    return solver\n",
    "\n",
    "def get_speakers():\n",
    "    with open(speaker_used_path) as f:\n",
    "        speakers = [line.strip() for line in f]\n",
    "        speaker2id = {speaker:i for i, speaker in enumerate(speakers)}\n",
    "    return speakers, speaker2id\n",
    "\n",
    "def test(speaker, speaker2id, solver, gen, f_h5, f_trg_h5, decompression):\n",
    "    dset='test'\n",
    "    losses=[]\n",
    "    for utt_id in f_h5[f'{dset}/{speaker}']:\n",
    "        sp = f_h5[f'{dset}/{speaker}/{utt_id}'][()]\n",
    "        sp_trg = f_trg_h5[f'{dset}/{speaker}/{utt_id}'][()]\n",
    "        sp_in = sp if decompression else sp_trg\n",
    "        sp_out = convert_sp(sp_in, speaker2id[speaker], solver, gen=gen)\n",
    "        loss = calc_loss(sp_out, sp_trg)\n",
    "        losses.append(loss)\n",
    "    return losses\n",
    "\n",
    "def test_all(h5_path, h5_trg_path, speaker_used_path, model_path, hps_path, wavenet_mel, decompression, gen=False):\n",
    "    loss_sum=0\n",
    "    samples_couter=0\n",
    "    speakers, speaker2id = get_speakers()\n",
    "    solver = get_model(hps_path, model_path, wavenet_mel)\n",
    "    \n",
    "    with h5py.File(h5_path, 'r') as f_h5:\n",
    "        with h5py.File(h5_trg_path, 'r') as f_trg_h5:\n",
    "            for speaker in speakers:\n",
    "                losses = test(speaker, speaker2id, solver, gen, f_h5, f_trg_h5, decompression)\n",
    "                loss_sum += np.sum(losses)\n",
    "                samples_couter += 1\n",
    "    return loss_sum/samples_couter"
   ]
  },
  {
   "cell_type": "code",
   "execution_count": 8,
   "metadata": {},
   "outputs": [
    {
     "name": "stdout",
     "output_type": "stream",
     "text": [
      "load model from model_vctk/mel/model_vctk-90000\n",
      "mean loss:  1.4487096190452575\n"
     ]
    }
   ],
   "source": [
    "h5_trg_path = \"vctk_old/data-wavenet.h5\"\n",
    "h5_path = \"vctk_old/data-8-wavenet.h5\"\n",
    "model_path = \"model_vctk/mel/model_vctk-90000\"\n",
    "speaker_used_path = \"vctk_old/en_speaker_used.txt\"\n",
    "hps_path=\"/tf/notebooks/SKAJPAI/voice_style_transfer/implementation/vctk.json\"\n",
    "decompression=True\n",
    "wavenet_mel=True\n",
    "\n",
    "mean_loss = test_all(h5_path, h5_trg_path, speaker_used_path, model_path, hps_path, wavenet_mel, decompression)\n",
    "print('mean loss: ',mean_loss)"
   ]
  },
  {
   "cell_type": "code",
   "execution_count": null,
   "metadata": {},
   "outputs": [],
   "source": []
  }
 ],
 "metadata": {
  "kernelspec": {
   "display_name": "Python 3",
   "language": "python",
   "name": "python3"
  },
  "language_info": {
   "codemirror_mode": {
    "name": "ipython",
    "version": 3
   },
   "file_extension": ".py",
   "mimetype": "text/x-python",
   "name": "python",
   "nbconvert_exporter": "python",
   "pygments_lexer": "ipython3",
   "version": "3.6.8"
  }
 },
 "nbformat": 4,
 "nbformat_minor": 2
}
