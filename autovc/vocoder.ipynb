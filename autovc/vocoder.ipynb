{
 "cells": [
  {
   "cell_type": "code",
   "execution_count": null,
   "metadata": {},
   "outputs": [
    {
     "name": "stdout",
     "output_type": "stream",
     "text": [
      "Collecting librosa\n",
      "Collecting audioread>=2.0.0 (from librosa)\n",
      "Collecting scipy>=1.0.0 (from librosa)\n",
      "  Using cached https://files.pythonhosted.org/packages/29/50/a552a5aff252ae915f522e44642bb49a7b7b31677f9580cfd11bcc869976/scipy-1.3.1-cp36-cp36m-manylinux1_x86_64.whl\n",
      "Collecting soundfile>=0.9.0 (from librosa)\n",
      "  Using cached https://files.pythonhosted.org/packages/68/64/1191352221e2ec90db7492b4bf0c04fd9d2508de67b3f39cbf093cd6bd86/SoundFile-0.10.2-py2.py3-none-any.whl\n",
      "Collecting scikit-learn!=0.19.0,>=0.14.0 (from librosa)\n",
      "  Using cached https://files.pythonhosted.org/packages/a0/c5/d2238762d780dde84a20b8c761f563fe882b88c5a5fb03c056547c442a19/scikit_learn-0.21.3-cp36-cp36m-manylinux1_x86_64.whl\n",
      "Collecting decorator>=3.0.0 (from librosa)\n",
      "  Using cached https://files.pythonhosted.org/packages/8f/b7/f329cfdc75f3d28d12c65980e4469e2fa373f1953f5df6e370e84ea2e875/decorator-4.4.1-py2.py3-none-any.whl\n",
      "Collecting numpy>=1.15.0 (from librosa)\n",
      "  Using cached https://files.pythonhosted.org/packages/0e/46/ae6773894f7eacf53308086287897ec568eac9768918d913d5b9d366c5db/numpy-1.17.3-cp36-cp36m-manylinux1_x86_64.whl\n",
      "Collecting numba>=0.43.0 (from librosa)\n",
      "  Using cached https://files.pythonhosted.org/packages/53/34/22b6c2ded558976b5367be01b851ae679a0d1ba994de002d54afe84187b5/numba-0.46.0-cp36-cp36m-manylinux1_x86_64.whl\n",
      "Collecting six>=1.3 (from librosa)\n",
      "  Using cached https://files.pythonhosted.org/packages/65/26/32b8464df2a97e6dd1b656ed26b2c194606c16fe163c695a992b36c11cdf/six-1.13.0-py2.py3-none-any.whl\n",
      "Collecting resampy>=0.2.2 (from librosa)\n",
      "Collecting joblib>=0.12 (from librosa)\n",
      "  Using cached https://files.pythonhosted.org/packages/8f/42/155696f85f344c066e17af287359c9786b436b1bf86029bb3411283274f3/joblib-0.14.0-py2.py3-none-any.whl\n",
      "Collecting cffi>=1.0 (from soundfile>=0.9.0->librosa)\n",
      "  Using cached https://files.pythonhosted.org/packages/49/72/0d42f94fe94afa8030350c26e9d787219f3f008ec9bf6b86c66532b29236/cffi-1.13.2-cp36-cp36m-manylinux1_x86_64.whl\n",
      "Collecting llvmlite>=0.30.0dev0 (from numba>=0.43.0->librosa)\n",
      "  Using cached https://files.pythonhosted.org/packages/b3/93/924788871a889ead1c115ba2d43e67932a8865d38fdb179505c99e4bb575/llvmlite-0.30.0-cp36-cp36m-manylinux1_x86_64.whl\n",
      "Collecting pycparser (from cffi>=1.0->soundfile>=0.9.0->librosa)\n",
      "Installing collected packages: audioread, numpy, scipy, pycparser, cffi, soundfile, joblib, scikit-learn, decorator, llvmlite, numba, six, resampy, librosa\n",
      "Successfully installed audioread-2.1.8 cffi-1.13.2 decorator-4.4.1 joblib-0.14.0 librosa-0.7.1 llvmlite-0.30.0 numba-0.46.0 numpy-1.17.3 pycparser-2.19 resampy-0.2.2 scikit-learn-0.21.3 scipy-1.3.1 six-1.13.0 soundfile-0.10.2\n"
     ]
    }
   ],
   "source": [
    "!python3.6 -m pip install librosa\n",
    "!python3.6 -m apt-get install libsndfile1 --yes\n",
    "!python3.6 -m pip install tqdm\n",
    "!python3.6 -m pip install wavenet_vocoder\n",
    "!python3.6 -m pip install tensorflow"
   ]
  },
  {
   "cell_type": "code",
   "execution_count": null,
   "metadata": {},
   "outputs": [
    {
     "name": "stderr",
     "output_type": "stream",
     "text": [
      "\r",
      "  0%|          | 0/23040 [00:00<?, ?it/s]"
     ]
    },
    {
     "name": "stdout",
     "output_type": "stream",
     "text": [
      "p225xp225\n"
     ]
    },
    {
     "name": "stderr",
     "output_type": "stream",
     "text": [
      " 35%|███▍      | 8007/23040 [01:01<01:54, 130.78it/s]"
     ]
    }
   ],
   "source": [
    "import torch\n",
    "import librosa\n",
    "import pickle\n",
    "from synthesis import build_model\n",
    "from synthesis import wavegen\n",
    "\n",
    "use_cuda = torch.cuda.is_available()\n",
    "device = torch.device(\"cuda\" if use_cuda else \"cpu\")\n",
    "spect_vc = pickle.load(open('results.pkl', 'rb'))\n",
    "model = build_model().to(device)\n",
    "checkpoint = torch.load(\"checkpoint_step001000000_ema.pth\", map_location=device)\n",
    "model.load_state_dict(checkpoint[\"state_dict\"])\n",
    "\n",
    "for spect in spect_vc:\n",
    "    name = spect[0]\n",
    "    c = spect[1]\n",
    "    print(name)\n",
    "    waveform = wavegen(model, c=c)   \n",
    "    librosa.output.write_wav(name+'.wav', waveform, sr=16000)"
   ]
  }
 ],
 "metadata": {
  "kernelspec": {
   "display_name": "Python 3",
   "language": "python",
   "name": "python3"
  },
  "language_info": {
   "codemirror_mode": {
    "name": "ipython",
    "version": 3
   },
   "file_extension": ".py",
   "mimetype": "text/x-python",
   "name": "python",
   "nbconvert_exporter": "python",
   "pygments_lexer": "ipython3",
   "version": "3.6.8"
  }
 },
 "nbformat": 4,
 "nbformat_minor": 2
}
