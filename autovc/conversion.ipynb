{
 "cells": [
  {
   "cell_type": "code",
   "execution_count": 2,
   "metadata": {},
   "outputs": [
    {
     "name": "stdout",
     "output_type": "stream",
     "text": [
      "Collecting torch\n",
      "\u001b[?25l  Downloading https://files.pythonhosted.org/packages/88/95/90e8c4c31cfc67248bf944ba42029295b77159982f532c5689bcfe4e9108/torch-1.3.1-cp36-cp36m-manylinux1_x86_64.whl (734.6MB)\n",
      "\u001b[K     |████████████████████████████████| 734.6MB 106kB/s eta 0:00:01   |                                | 2.2MB 948kB/s eta 0:12:53     |▍                               | 9.8MB 9.7MB/s eta 0:01:15     |███▍                            | 79.0MB 3.6MB/s eta 0:03:02     |█████▏                          | 118.8MB 2.5MB/s eta 0:04:04     |███████████                     | 251.4MB 2.7MB/s eta 0:02:57     |████████████████                | 368.4MB 2.1MB/s eta 0:02:57     |████████████████▌               | 377.7MB 1.4MB/s eta 0:04:24\n",
      "\u001b[?25hRequirement already satisfied: numpy in /usr/local/lib/python3.6/dist-packages (from torch) (1.17.2)\n",
      "Installing collected packages: torch\n",
      "Successfully installed torch-1.3.1\n",
      "\u001b[33mWARNING: You are using pip version 19.2.3, however version 19.3.1 is available.\n",
      "You should consider upgrading via the 'pip install --upgrade pip' command.\u001b[0m\n"
     ]
    }
   ],
   "source": [
    "!python3.6 -m pip install torch"
   ]
  },
  {
   "cell_type": "code",
   "execution_count": 16,
   "metadata": {},
   "outputs": [
    {
     "name": "stdout",
     "output_type": "stream",
     "text": [
      "torch.Size([1, 704, 80]) torch.Size([1, 256]) torch.Size([1, 256])\n",
      "metadata shape:  (4, 3)\n",
      "x_org without padding:  (90, 80)\n",
      "torch.Size([1, 96, 80]) torch.Size([1, 256]) torch.Size([1, 256])\n",
      "torch.Size([1, 96, 80]) torch.Size([1, 256]) torch.Size([1, 256])\n",
      "torch.Size([1, 96, 80]) torch.Size([1, 256]) torch.Size([1, 256])\n",
      "torch.Size([1, 96, 80]) torch.Size([1, 256]) torch.Size([1, 256])\n",
      "x_org without padding:  (89, 80)\n",
      "torch.Size([1, 96, 80]) torch.Size([1, 256]) torch.Size([1, 256])\n",
      "torch.Size([1, 96, 80]) torch.Size([1, 256]) torch.Size([1, 256])\n",
      "torch.Size([1, 96, 80]) torch.Size([1, 256]) torch.Size([1, 256])\n",
      "torch.Size([1, 96, 80]) torch.Size([1, 256]) torch.Size([1, 256])\n",
      "x_org without padding:  (75, 80)\n",
      "torch.Size([1, 96, 80]) torch.Size([1, 256]) torch.Size([1, 256])\n",
      "torch.Size([1, 96, 80]) torch.Size([1, 256]) torch.Size([1, 256])\n",
      "torch.Size([1, 96, 80]) torch.Size([1, 256]) torch.Size([1, 256])\n",
      "torch.Size([1, 96, 80]) torch.Size([1, 256]) torch.Size([1, 256])\n",
      "x_org without padding:  (109, 80)\n",
      "torch.Size([1, 128, 80]) torch.Size([1, 256]) torch.Size([1, 256])\n",
      "torch.Size([1, 128, 80]) torch.Size([1, 256]) torch.Size([1, 256])\n",
      "torch.Size([1, 128, 80]) torch.Size([1, 256]) torch.Size([1, 256])\n",
      "torch.Size([1, 128, 80]) torch.Size([1, 256]) torch.Size([1, 256])\n"
     ]
    }
   ],
   "source": [
    "import os\n",
    "import pickle\n",
    "import torch\n",
    "import numpy as np\n",
    "from math import ceil\n",
    "from model_vc import Generator\n",
    "\n",
    "\n",
    "def pad_seq(x, base=32):\n",
    "    len_out = int(base * ceil(float(x.shape[0])/base))\n",
    "    len_pad = len_out - x.shape[0]\n",
    "    assert len_pad >= 0\n",
    "    return np.pad(x, ((0,len_pad),(0,0)), 'constant'), len_pad\n",
    "\n",
    "use_cuda = torch.cuda.is_available()\n",
    "device = torch.device(\"cuda:0\" if use_cuda else \"cpu\")\n",
    "#loaded_state = torch.load(model_path+seq_to_seq_test_model_fname,map_location='cuda:0')\n",
    "G = Generator(32,256,512,32).eval().to(device)\n",
    "\n",
    "g_checkpoint = torch.load('autovc.ckpt', map_location=device)\n",
    "G.load_state_dict(g_checkpoint['model'])\n",
    "\n",
    "##################################\n",
    "dir_path = \"/tf/notebooks/SKAJPAI/voice_style_transfer/cross_model_resources/\"\n",
    "\n",
    "emb_org = np.load(dir_path+\"emb_org.npy\")\n",
    "emb_trg = np.load(dir_path+\"emb_trg.npy\")\n",
    "mel_org = np.load(dir_path+\"mel_org.npy\")\n",
    "#mel_trg = np.load(dir_path+\"mel_trg.npy\")\n",
    "\n",
    "emb_org = torch.from_numpy(emb_org).to(device)\n",
    "emb_trg = torch.from_numpy(emb_trg).to(device)\n",
    "\n",
    "mel_org = np.transpose(mel_org, axes=(1,0))\n",
    "mel_org, len_pad = pad_seq(mel_org)\n",
    "uttr_org = torch.from_numpy(mel_org[np.newaxis, :, :]).to(device)\n",
    "print(uttr_org.shape, emb_org.shape, emb_trg.shape)\n",
    "        \n",
    "with torch.no_grad():\n",
    "    _, x_identic_psnt, _ = G(uttr_org, emb_org, emb_trg)\n",
    "\n",
    "if len_pad == 0:\n",
    "    uttr_trg = x_identic_psnt[0, 0, :, :].cpu().numpy()\n",
    "else:\n",
    "    uttr_trg = x_identic_psnt[0, 0, :-len_pad, :].cpu().numpy()\n",
    "\n",
    "np.save(\"uttr_trg\", uttr_trg)\n",
    "###################################\n",
    "\n",
    "metadata = pickle.load(open('metadata.pkl', \"rb\"))\n",
    "print('metadata shape: ',np.asarray(metadata).shape)\n",
    "spect_vc = []\n",
    "\n",
    "for sbmt_i in metadata:\n",
    "             \n",
    "    x_org = sbmt_i[2]\n",
    "    print(\"x_org without padding: \",x_org.shape)\n",
    "    x_org, len_pad = pad_seq(x_org)\n",
    "    uttr_org = torch.from_numpy(x_org[np.newaxis, :, :]).to(device)\n",
    "    emb_org = torch.from_numpy(sbmt_i[1][np.newaxis, :]).to(device)\n",
    "    \n",
    "    for sbmt_j in metadata:\n",
    "                   \n",
    "        emb_trg = torch.from_numpy(sbmt_j[1][np.newaxis, :]).to(device)\n",
    "        \n",
    "        print(uttr_org.shape, emb_org.shape, emb_trg.shape)\n",
    "        \n",
    "        with torch.no_grad():\n",
    "            _, x_identic_psnt, _ = G(uttr_org, emb_org, emb_trg)\n",
    "            \n",
    "        if len_pad == 0:\n",
    "            uttr_trg = x_identic_psnt[0, 0, :, :].cpu().numpy()\n",
    "        else:\n",
    "            uttr_trg = x_identic_psnt[0, 0, :-len_pad, :].cpu().numpy()\n",
    "        \n",
    "        spect_vc.append( ('{}x{}'.format(sbmt_i[0], sbmt_j[0]), uttr_trg) )\n",
    "        \n",
    "        \n",
    "with open('results.pkl', 'wb') as handle:\n",
    "    pickle.dump(uttr_trg, handle)          "
   ]
  }
 ],
 "metadata": {
  "kernelspec": {
   "display_name": "Python 3",
   "language": "python",
   "name": "python3"
  },
  "language_info": {
   "codemirror_mode": {
    "name": "ipython",
    "version": 3
   },
   "file_extension": ".py",
   "mimetype": "text/x-python",
   "name": "python",
   "nbconvert_exporter": "python",
   "pygments_lexer": "ipython3",
   "version": "3.6.8"
  }
 },
 "nbformat": 4,
 "nbformat_minor": 2
}
